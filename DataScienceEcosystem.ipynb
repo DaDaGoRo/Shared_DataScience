{
 "cells": [
  {
   "cell_type": "markdown",
   "id": "1b7f1376-671e-4e22-b2ba-75987853b8a2",
   "metadata": {},
   "source": [
    "# Data Science Tools and Ecosystem"
   ]
  },
  {
   "cell_type": "markdown",
   "id": "c9cf0238-e638-40fd-b30b-825d05f011e3",
   "metadata": {},
   "source": [
    "## In this notebook, Data Science Tools and Ecosystem are summarized."
   ]
  },
  {
   "cell_type": "markdown",
   "id": "36499df3-b3c2-406a-8f8b-de4ec2911007",
   "metadata": {},
   "source": [
    "## Some of the popular languages that Data Scientists use are:\n",
    "1. Julia\n",
    "2. Python\n",
    "3. R"
   ]
  },
  {
   "cell_type": "markdown",
   "id": "b85a6be9-cbd1-458b-abed-7c236484f2ab",
   "metadata": {},
   "source": [
    "## Some of the commonly used libraries used by Data Scientists include:\n",
    "1. Pandas\n",
    "2. NumPy\n",
    "3. Scikit-learn"
   ]
  },
  {
   "cell_type": "markdown",
   "id": "e85bb2d5-a76c-4027-be6e-d92bf87db582",
   "metadata": {},
   "source": [
    "## Data Science Tools\n",
    "\n",
    "| Data Science Tools |\n",
    "|--------------------|\n",
    "| VS Code            | \n",
    "| RStudio            |\n",
    "| Jupyter Notebook   |\n"
   ]
  },
  {
   "cell_type": "markdown",
   "id": "9fa96f16-963b-46e6-ad93-2c665ad4fbab",
   "metadata": {},
   "source": [
    "### Below are a few examples of evaluating arithmetic expressions in Python"
   ]
  },
  {
   "cell_type": "code",
   "execution_count": 2,
   "id": "f8b1c46c-74a1-4746-bf2a-90f932fff158",
   "metadata": {},
   "outputs": [
    {
     "data": {
      "text/plain": [
       "17"
      ]
     },
     "execution_count": 2,
     "metadata": {},
     "output_type": "execute_result"
    }
   ],
   "source": [
    "# This will be a simple aritmethic operation between three numbers\n",
    "(3*4)+5"
   ]
  },
  {
   "cell_type": "code",
   "execution_count": 3,
   "id": "5c05e76b-df82-42c6-8ec4-909f05e2445b",
   "metadata": {},
   "outputs": [
    {
     "data": {
      "text/plain": [
       "3.3333333333333335"
      ]
     },
     "execution_count": 3,
     "metadata": {},
     "output_type": "execute_result"
    }
   ],
   "source": [
    "# This will convert 200 minutes to hours by diving by 60\n",
    "\n",
    "# We know that 60 min is 1 hour, so if we have 200 min We need to divide 200 by 60 to know the number of hours\n",
    "200/60"
   ]
  },
  {
   "cell_type": "markdown",
   "id": "0a5e30e1-44ae-4636-a3cc-50bdd86e3df0",
   "metadata": {},
   "source": [
    "### **Objectives**\n",
    "#### Popular languagues for Data Science:\n",
    "* Python\n",
    "* Julia\n",
    "* R\n",
    "* Ruby\n",
    "* Go"
   ]
  },
  {
   "cell_type": "markdown",
   "id": "450d88ff-6e85-4de7-9ab6-354da2f82e13",
   "metadata": {},
   "source": [
    "## Author\n",
    "Daniel David Gómez"
   ]
  }
 ],
 "metadata": {
  "kernelspec": {
   "display_name": "Python [conda env:base] *",
   "language": "python",
   "name": "conda-base-py"
  },
  "language_info": {
   "codemirror_mode": {
    "name": "ipython",
    "version": 3
   },
   "file_extension": ".py",
   "mimetype": "text/x-python",
   "name": "python",
   "nbconvert_exporter": "python",
   "pygments_lexer": "ipython3",
   "version": "3.13.5"
  }
 },
 "nbformat": 4,
 "nbformat_minor": 5
}
